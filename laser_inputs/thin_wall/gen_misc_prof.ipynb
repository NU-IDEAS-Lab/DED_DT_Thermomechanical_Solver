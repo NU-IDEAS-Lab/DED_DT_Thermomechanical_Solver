{
 "cells": [
  {
   "attachments": {},
   "cell_type": "markdown",
   "metadata": {},
   "source": [
    "This code generates a bunch of mixed sinosodal laser profiles, of same magnitude and mean. For testing only."
   ]
  },
  {
   "cell_type": "code",
   "execution_count": 2,
   "metadata": {},
   "outputs": [],
   "source": [
    "import numpy as np\n",
    "import matplotlib.pyplot as plt\n",
    "import pandas as pd"
   ]
  },
  {
   "cell_type": "code",
   "execution_count": 3,
   "metadata": {},
   "outputs": [],
   "source": [
    "num_datapoints = 200000 # Number of data points to generate\n",
    "num_profs = 15 # Number of profiles to generate\n",
    "dt = 0.002\n",
    "\n",
    "t_vec = np.arange(0, dt*(num_datapoints), dt, dtype=np.float64)\n",
    "for itr in range(0, num_profs):\n",
    "    laser_power = 150.*np.sin(t_vec) + 500. + (itr + 1)*20.*np.sin(10*t_vec)\n",
    "    #fig, ax = plt.subplots()\n",
    "    #ax.plot(t_vec, laser_power)\n",
    "\n",
    "    out_df = pd.DataFrame({'laser_power': laser_power, 'time_elapsed': t_vec})\n",
    "    out_df.to_csv(\"LP_\" + str(itr + 1) + \".csv\", index=False)\n",
    "    #print(out_df)\n",
    "\n",
    "# Commit Change"
   ]
  }
 ],
 "metadata": {
  "kernelspec": {
   "display_name": "Python 3",
   "language": "python",
   "name": "python3"
  },
  "language_info": {
   "codemirror_mode": {
    "name": "ipython",
    "version": 3
   },
   "file_extension": ".py",
   "mimetype": "text/x-python",
   "name": "python",
   "nbconvert_exporter": "python",
   "pygments_lexer": "ipython3",
   "version": "3.10.9"
  },
  "orig_nbformat": 4,
  "vscode": {
   "interpreter": {
    "hash": "9303b6ed79945d10020210cc5bae7a795958a7811e1d45f873691096b315dfdb"
   }
  }
 },
 "nbformat": 4,
 "nbformat_minor": 2
}
